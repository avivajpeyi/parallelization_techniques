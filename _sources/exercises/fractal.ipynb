{
 "cells": [
  {
   "cell_type": "markdown",
   "metadata": {},
   "source": [
    "<a target=\"_blank\" href=\"https://colab.research.google.com/github/avivajpeyi/parallelization_techniques/blob/main/docs/exercises/fractal.ipynb\">\n",
    "  <img src=\"https://colab.research.google.com/assets/colab-badge.svg\" alt=\"Open In Colab\"/>\n",
    "</a>\n",
    "\n",
    "\n",
    "# Fractal Generation\n",
    "\n",
    "According to wikipedia,\n",
    "> A fractal is a geometric shape containing detailed structure at arbitrarily small scales...\n",
    "\n",
    "**Julia Sets**\n",
    "We'll focus on [Julia Sets](https://en.wikipedia.org/wiki/Julia_set), a type of fractal made using complex numbers.\n",
    "One Julia set is the set of all complex numbers $z$ for a given $c = a + bi$, such that the sequence $z_{n+1} = z_n^2 + c$ remains bounded.\n",
    "\n",
    "We define a fuction $F(z, c)$ that updates the complex number $z$ iteratively:\n",
    "- Initialization of the complex number variable $z$.\n",
    "- Iteratively update the value of $z$ based upon the function $z_{n+1} = z_n^2 + c$.\n",
    "- Return the number of iterations necessary to determine whether $z$ is bounded or unbounded (return a nan/0).\n",
    "\n",
    "Often, we set a threshold to prevent infinite iteration, which can be one or both of\n",
    "1. we surpass a value of $z$ (in the examples below, iteration stops when $|z|>4$, and/or\n",
    "2. we surpass a predefined number of iterations.\n",
    "\n",
    "Based upon either method, $z$ can be defined as bounded or unbounded (iteration trends towards infinity).\n",
    "\n",
    "**Visualisation for Julia Sets**\n",
    "\n",
    "To visualize the Julia Set Fractal, the initial $z$ value can be defined as the location of a pixel in a 2-dimensional image: the real portion of the initial complex number the _x_ pixel index, and the imaginary value the _y_ pixel index (or vice-versa).\n",
    "\n",
    "For each pixel, we can initialize $z$ based upon its index and plug the values into $z_{n+1} = z_n^2 + c$ to determine whether the result is bounded or unbounded :\n",
    "\n",
    "| **(x,y)**  | **x1**           | **x2**           | ... | **width**           |\n",
    "|------------|------------------|------------------|-----|---------------------|\n",
    "| **y1**     | F(x1 + y1*i)     | F(x2 + y1*i)     | ... | F(width + y1*i)     |\n",
    "| **y2**     | F(x1 + y2*i)     | F(x2 + y2*i)     | ... | F(width + y2*i)     |\n",
    "| ...        | ...              | ...              | ... | ...                 |\n",
    "| **height** | F(x1 + height*i) | F(x2 + height*i) | ... | F(width + height*i) |\n",
    "\n",
    "Finally, one could color the image based upon resultant values:\n",
    "- Black for unbounded\n",
    "- Use colormap to display the normalized value of the resulting number of iterations (e.g. 0-255 for 8-bit color depth)\n",
    "\n",
    "\n",
    "The final fractan can change based on\n",
    "- the constant $c$,\n",
    "- the maximum number of iterations allowed\n",
    "- the resolution of the grid\n",
    "- the extents of the grid (e.g. $x,y \\in [-2, 2]$ versus $x,y \\in [-0.1, 0.1]$)\n",
    "\n",
    "An interactive plotter can be found [here](http://www.malinc.se/m/JuliaSets.php).\n",
    "\n",
    "## CPU and Numpy Implementation"
   ]
  },
  {
   "cell_type": "code",
   "execution_count": null,
   "metadata": {},
   "outputs": [],
   "source": [
    "import numpy as np\n",
    "from time import process_time\n",
    "\n",
    "RESOLUTION = 768\n",
    "EPSILON = 1e-6\n",
    "MESH_MIN, MESH_MAX = -2, 2\n",
    "MESH_SIZE = MESH_MAX - MESH_MIN\n",
    "MESH_RE, MESH_IM = np.meshgrid(\n",
    "    np.arange(MESH_MIN, MESH_MAX, (MESH_SIZE + EPSILON) / (RESOLUTION - 1)),\n",
    "    np.arange(MESH_MIN, MESH_MAX, (MESH_SIZE + EPSILON) / (RESOLUTION - 1))[::-1]\n",
    ")\n",
    "\n",
    "def compute_cpu_julia_grid(np_zmesh_re, np_zmesh_im, constant_real, constant_imag):\n",
    "    \"\"\"\n",
    "    Compute the Julia Set fractal using the given complex constant and a pre-computed mesh.\n",
    "\n",
    "    :param np_zmesh_re: Numpy array of real parts of the complex mesh\n",
    "    :param np_zmesh_im: Numpy array of imaginary parts of the complex mesh\n",
    "    :param constant_real: The real part of the complex constant 'c'\n",
    "    :param constant_imag: The imaginary part of the complex constant 'c'\n",
    "    :return: Numpy array representing the Julia Set fractal\n",
    "    \"\"\"\n",
    "    nr, nc = np_zmesh_re.shape\n",
    "    max_escape_iter = 1000\n",
    "    fractal_image = np.zeros((nr, nc))\n",
    "\n",
    "    for r in range(nr):\n",
    "        for c in range(nc):\n",
    "            a = np_zmesh_re[r, c]\n",
    "            b = np_zmesh_im[r, c]\n",
    "            temp_real, temp_imag = 0, 0\n",
    "\n",
    "            for iteration in range(1, max_escape_iter):\n",
    "                if a * a + b * b > 4.0:\n",
    "                    break # its going to diverge\n",
    "                else:\n",
    "                    temp_real = a * a - b * b + constant_real\n",
    "                    temp_imag = 2 * a * b + constant_imag\n",
    "                    a = temp_real\n",
    "                    b = temp_imag\n",
    "\n",
    "            fractal_image[r, c] = np.log2(float(iteration)) / np.log2(max_escape_iter)\n",
    "\n",
    "    return fractal_image\n"
   ]
  },
  {
   "cell_type": "code",
   "execution_count": null,
   "metadata": {},
   "outputs": [],
   "source": [
    "t0 = process_time()\n",
    "a, b = -0.8, 0.156\n",
    "julia_fractal = compute_cpu_julia_grid(\n",
    "    MESH_RE, MESH_IM,\n",
    "    a, b\n",
    ")\n",
    "print(f\"CPU Runtime: {process_time() - t0:.2f}s\")"
   ]
  },
  {
   "cell_type": "code",
   "execution_count": null,
   "metadata": {},
   "outputs": [],
   "source": [
    "import matplotlib.pyplot as plt\n",
    "\n",
    "def plot_julia_grid(julia_fractal, c=None, colormap='magma'):\n",
    "    fig, ax = plt.subplots(figsize=(5, 5))\n",
    "    ax.imshow(julia_fractal, cmap=colormap)\n",
    "    # text in the top left corner\n",
    "    if c is not None:\n",
    "        ax.text(0.05, 0.95, f\"c = {c[0]:.2f} + i{c[1]:.2f}\", transform=ax.transAxes, ha='left', va='top', color='white', bbox=dict(boxstyle='round', facecolor='black', alpha=0.9), fontsize=10)\n",
    "    ax.axis('off')\n",
    "    # remove white space around the image\n",
    "    fig.subplots_adjust(left=0, right=1, bottom=0, top=1)\n",
    "    return fig\n",
    "\n",
    "fig = plot_julia_grid(julia_fractal, c=(a,b), colormap='magma')\n"
   ]
  },
  {
   "cell_type": "markdown",
   "metadata": {},
   "source": [
    "![download-0](https://github.com/avivajpeyi/parallelization_techniques/assets/15642823/fbde2eef-3e97-4f1c-9ae5-dc71880ff0eb)"
   ]
  },
  {
   "cell_type": "markdown",
   "metadata": {},
   "source": [
    "## GPU and Cupy Implementation"
   ]
  },
  {
   "cell_type": "markdown",
   "metadata": {},
   "source": [
    "Although we could do this using Jax/cupy's pythonic interface, we'll write an actual [GPU kernel](https://developer.nvidia.com/blog/cuda-refresher-cuda-programming-model/) to do the computation (specific code for the GPU).\n",
    "This is a bit more technical, but it's also more flexible and allows us to do things with the GPU (like accessing shared memory, etc).\n",
    "\n",
    "See more details on the [Cupy docs](https://docs.cupy.dev/en/stable/)."
   ]
  },
  {
   "cell_type": "code",
   "execution_count": null,
   "metadata": {},
   "outputs": [],
   "source": [
    "import cupy as cp\n",
    "\n",
    "# Create a GPU/CuPy grid of complex values (`cp.*` instead of `np.*`)\n",
    "GPU_MESH_RE, GPU_MESH_IM = cp.meshgrid(\n",
    "    cp.arange(MESH_MIN, MESH_MAX, (MESH_SIZE + EPSILON) / (RESOLUTION - 1), dtype=cp.float32),\n",
    "    cp.arange(MESH_MIN, MESH_MAX, (MESH_SIZE + EPSILON) / (RESOLUTION - 1), dtype=cp.float32)[::-1]\n",
    ")\n",
    "\n",
    "\n",
    "# The following code will be complied into a CUDA kernel and uploaded to the GPU\n",
    "compute_gpu_julia_grid = cp.ElementwiseKernel(\n",
    "    'float32 complex_grid_re, float32 complex_grid_im, float32 constant_real, float32 constant_imag',\n",
    "    'float32 out',\n",
    "    '''\n",
    "        int time;\n",
    "\n",
    "        float temp_real = 0.0;\n",
    "        float temp_imag = 0.0;\n",
    "\n",
    "        float zn_real = complex_grid_re;\n",
    "        float zn_imag = complex_grid_im;\n",
    "\n",
    "        for(time = 1; time < 1000; time++)\n",
    "        {\n",
    "            if(zn_real * zn_real + zn_imag * zn_imag > 4.0)\n",
    "                break;\n",
    "            else\n",
    "            {\n",
    "                temp_real = zn_real * zn_real - zn_imag * zn_imag + constant_real;\n",
    "                temp_imag = 2 * zn_real * zn_imag + constant_imag;\n",
    "\n",
    "                zn_real = temp_real;\n",
    "                zn_imag = temp_imag;\n",
    "            }\n",
    "        }\n",
    "\n",
    "        out = log2f((float)time) / log2f(1000.0f);\n",
    "    ''',\n",
    "    'gpu_znplusc'\n",
    ")\n"
   ]
  },
  {
   "cell_type": "markdown",
   "metadata": {},
   "source": [
    "Writing a kernel can be better sometimes as we won't have to incur any costs of having the cde get compiled during execution, and we won't have to deal with transferring data/memory during computations (only at the end of the computations)."
   ]
  },
  {
   "cell_type": "code",
   "execution_count": null,
   "metadata": {},
   "outputs": [],
   "source": [
    "t0 = process_time()\n",
    "out = compute_gpu_julia_grid(GPU_MESH_RE, GPU_MESH_IM, a, b)\n",
    "print(f\"GPU Runtime: {process_time() - t0:.2f}s\")"
   ]
  },
  {
   "cell_type": "code",
   "execution_count": null,
   "metadata": {},
   "outputs": [],
   "source": [
    "c_vals = [\n",
    "    (-0.8,   0.156),\n",
    "    (-0.2,  -0.4),\n",
    "    (-0.4,   0.6),\n",
    "    ( 0.4,  -0.1),\n",
    "    (0, 0.7885),\n",
    "    (0.335, 0.335)\n",
    "]\n",
    "\n",
    "for i, (re, im) in enumerate(c_vals):\n",
    "    out = compute_gpu_julia_grid(GPU_MESH_RE, GPU_MESH_IM, re, im)\n",
    "    fig = plot_julia_grid(out.get(), c=(re, im), colormap='magma')\n"
   ]
  },
  {
   "cell_type": "markdown",
   "metadata": {},
   "source": [
    "\n",
    "|                 |                 |\n",
    "|:---------------:|:---------------:|\n",
    "| ![][download-0] | ![][download-1] |\n",
    "| ![][download-2] | ![][download-3] |\n",
    "| ![][download-4] | ![][download-5] |\n",
    "\n",
    "\n",
    "\n",
    "[download-3]:https://github.com/avivajpeyi/parallelization_techniques/assets/15642823/046d8464-e752-4664-bc1a-694a77ff540c\n",
    "[download-2]:https://github.com/avivajpeyi/parallelization_techniques/assets/15642823/258eb849-281b-4746-9aa4-a6d4320d7926\n",
    "[download-1]:https://github.com/avivajpeyi/parallelization_techniques/assets/15642823/5cd48d19-b316-43d7-b081-b4a4b1c284d5\n",
    "[download-0]:https://github.com/avivajpeyi/parallelization_techniques/assets/15642823/fbde2eef-3e97-4f1c-9ae5-dc71880ff0eb\n",
    "[download-4]:https://github.com/avivajpeyi/parallelization_techniques/assets/15642823/50ac7161-b0dc-404c-9fdf-b6270cb9124d\n",
    "[download-5]:https://github.com/avivajpeyi/parallelization_techniques/assets/15642823/94c793fc-2f43-4909-a0b6-1fdf997f9141\n",
    "\n"
   ]
  },
  {
   "cell_type": "markdown",
   "metadata": {},
   "source": [
    "## Plot runtimes"
   ]
  },
  {
   "cell_type": "code",
   "execution_count": null,
   "metadata": {},
   "outputs": [],
   "source": [
    "from tqdm.auto import tqdm\n",
    "from time import process_time\n",
    "\n",
    "def collect_cpu_runtimes(resolution_sizes, a=-0.8,   b=0.156):\n",
    "    runtimes = []\n",
    "    for res in tqdm(resolution_sizes, desc='CPU'):\n",
    "        mesh_re, mesh_im = np.meshgrid(\n",
    "            np.arange(MESH_MIN, MESH_MAX, (MESH_SIZE + EPSILON) / (res - 1)),\n",
    "            np.arange(MESH_MIN, MESH_MAX, (MESH_SIZE + EPSILON) / (res - 1))[::-1]\n",
    "        )\n",
    "        t0 = process_time()\n",
    "        compute_cpu_julia_grid(mesh_re, mesh_im, a, b)\n",
    "        runtimes.append(process_time() - t0)\n",
    "    return runtimes\n",
    "\n",
    "def collect_gpu_runtimes(resolution_sizes, a=-0.8,   b=0.156):\n",
    "    runtimes = []\n",
    "    for res in tqdm(resolution_sizes, desc='GPU'):\n",
    "        mesh_re, mesh_im = cp.meshgrid(\n",
    "            cp.arange(MESH_MIN, MESH_MAX, (MESH_SIZE + EPSILON) / (res - 1), dtype=cp.float32),\n",
    "            cp.arange(MESH_MIN, MESH_MAX, (MESH_SIZE + EPSILON) / (res - 1), dtype=cp.float32)[::-1]\n",
    "        )\n",
    "        t0 = process_time()\n",
    "        compute_gpu_julia_grid(mesh_re, mesh_im, a, b)\n",
    "        runtimes.append(process_time() - t0)\n",
    "    return runtimes\n",
    "\n",
    "\n",
    "resolution_sizes = [32, 64, 128, 256, 512]\n",
    "cpu_runtimes = collect_cpu_runtimes(resolution_sizes)\n",
    "gpu_runtimes = collect_gpu_runtimes(resolution_sizes)\n"
   ]
  },
  {
   "cell_type": "code",
   "execution_count": null,
   "metadata": {},
   "outputs": [],
   "source": [
    "import matplotlib.pyplot as plt\n",
    "\n",
    "def plot_runtimes(resolution_sizes, cpu_runtimes, gpu_runtimes):\n",
    "    fig, ax = plt.subplots(figsize=(5, 5))\n",
    "    ax.plot(resolution_sizes, cpu_runtimes, label='CPU')\n",
    "    ax.plot(resolution_sizes, gpu_runtimes, label='GPU')\n",
    "    ax.set_xlabel('Resolution')\n",
    "    ax.set_ylabel('Runtime (s)')\n",
    "    ax.set_yscale('log')\n",
    "    ax.set_xscale('log')\n",
    "    ax.legend(fontsize=14)\n",
    "    return fig\n",
    "\n",
    "fig = plot_runtimes(resolution_sizes, cpu_runtimes, gpu_runtimes)\n",
    "fig.savefig(\"runtimes_fractal.png\")"
   ]
  },
  {
   "cell_type": "markdown",
   "metadata": {},
   "source": [
    "![runtimes_fractal](https://github.com/avivajpeyi/parallelization_techniques/assets/15642823/2b7bd132-d21e-41d5-9d58-41b88f1e7a70)\n"
   ]
  },
  {
   "cell_type": "markdown",
   "metadata": {},
   "source": [
    "## Animation\n",
    "We can make a small animation by allowing $c$ to change as:\n",
    "\n",
    "$$c = a + ib = |c|\\cos\\theta + i|c|\\sin\\theta\\ ,$$\n",
    "\n",
    "for $\\theta \\in [0, 2\\pi]$ and given some selected constant $|c|$ (for example $|c| = 0.7885$).\n",
    "\n",
    "(you could also try animating by zooming in/out on the fractal by changing the extents of the grid)\n"
   ]
  },
  {
   "cell_type": "code",
   "execution_count": null,
   "metadata": {},
   "outputs": [],
   "source": [
    "import imageio\n",
    "\n",
    "def make_julia_gif(c_mag, outname='julia.gif'):\n",
    "    theta_vals = np.linspace(0, 2*np.pi, 100)\n",
    "    with imageio.get_writer(outname, mode='I', loop=0) as writer:\n",
    "        for theta in tqdm(theta_vals, desc=\"Generating GIF\"):\n",
    "            a = c_mag * np.cos(theta)\n",
    "            b = c_mag * np.sin(theta)\n",
    "            out = compute_gpu_julia_grid(GPU_MESH_RE, GPU_MESH_IM, a, b)\n",
    "            fig = plot_julia_grid(out.get(), colormap='magma')\n",
    "            fig.savefig('temp.png', dpi=100)\n",
    "            writer.append_data(imageio.imread_v2('temp.png'))\n",
    "            plt.close(fig)\n",
    "    print(f\"Saved GIF to {outname}\")\n",
    "\n",
    "make_julia_gif(0.7885, outname='julia_7885.gif')\n",
    "make_julia_gif(0.335, outname='julia_335.gif')\n"
   ]
  },
  {
   "cell_type": "markdown",
   "metadata": {},
   "source": [
    "![julia_7885](https://github.com/avivajpeyi/parallelization_techniques/assets/15642823/87f0494f-c757-4983-921e-99bc7381fc7a)"
   ]
  },
  {
   "cell_type": "markdown",
   "metadata": {},
   "source": [
    "## Questions\n",
    "1. What is the GPU doing that makes it faster than the CPU?\n",
    "2. Why is the GPU implementation getting slower as the resolution increases?\n",
    "3. What will happen if the grid-size is increased?\n",
    "4. What are some differences between the CPU and GPU implementations?\n",
    "5. Can you write this in pythonic Jax/cupy code? Is it faster?\n",
    "6. Can you write a kernel that uses shared memory to speed up the computation?\n",
    "\n",
    "I'll release the answers after the workshop. (Please remind me if i don't lol)\n",
    "\n",
    "Share your plots/code/cool GIFs down below (in the website version of this page)! 😄\n",
    "\n",
    "\n",
    "<script src=\"https://utteranc.es/client.js\"\n",
    "        repo=\"avivajpeyi/parallelization_techniques\"\n",
    "        issue-term=\"title\"\n",
    "        theme=\"github-light\"\n",
    "        crossorigin=\"anonymous\"\n",
    "        async>\n",
    "</script>"
   ]
  }
 ],
 "metadata": {
  "kernelspec": {
   "display_name": "Python 3 (ipykernel)",
   "language": "python",
   "name": "python3"
  },
  "language_info": {
   "codemirror_mode": {
    "name": "ipython",
    "version": 3
   },
   "file_extension": ".py",
   "mimetype": "text/x-python",
   "name": "python",
   "nbconvert_exporter": "python",
   "pygments_lexer": "ipython3",
   "version": "3.11.4"
  },
  "toc": {
   "base_numbering": 1,
   "nav_menu": {},
   "number_sections": true,
   "sideBar": true,
   "skip_h1_title": false,
   "title_cell": "Table of Contents",
   "title_sidebar": "Contents",
   "toc_cell": false,
   "toc_position": {},
   "toc_section_display": true,
   "toc_window_display": true
  },
  "varInspector": {
   "cols": {
    "lenName": 16,
    "lenType": 16,
    "lenVar": 40
   },
   "kernels_config": {
    "python": {
     "delete_cmd_postfix": "",
     "delete_cmd_prefix": "del ",
     "library": "var_list.py",
     "varRefreshCmd": "print(var_dic_list())"
    },
    "r": {
     "delete_cmd_postfix": ") ",
     "delete_cmd_prefix": "rm(",
     "library": "var_list.r",
     "varRefreshCmd": "cat(var_dic_list()) "
    }
   },
   "types_to_exclude": [
    "module",
    "function",
    "builtin_function_or_method",
    "instance",
    "_Feature"
   ],
   "window_display": false
  }
 },
 "nbformat": 4,
 "nbformat_minor": 1
}
