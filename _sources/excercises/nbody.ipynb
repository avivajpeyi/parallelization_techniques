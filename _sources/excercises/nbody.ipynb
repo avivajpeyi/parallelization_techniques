{
 "cells": [
  {
   "cell_type": "code",
   "execution_count": 76,
   "outputs": [
    {
     "name": "stdout",
     "output_type": "stream",
     "text": [
      "IOStream.flush timed out\r\n",
      "IOStream.flush timed out\r\n",
      "\u001B[33mWARNING: Skipping /usr/local/lib/python3.11/site-packages/numpy-1.25.2-py3.11.egg-info due to invalid metadata entry 'name'\u001B[0m\u001B[33m\r\n",
      "\u001B[0m\u001B[33mWARNING: Skipping /usr/local/lib/python3.11/site-packages/numpy-1.25.2-py3.11.egg-info due to invalid metadata entry 'name'\u001B[0m\u001B[33m\r\n",
      "\u001B[0m\u001B[33mWARNING: Skipping /usr/local/lib/python3.11/site-packages/numpy-1.25.2-py3.11.egg-info due to invalid metadata entry 'name'\u001B[0m\u001B[33m\r\n",
      "\u001B[0m\u001B[33mWARNING: Skipping /usr/local/lib/python3.11/site-packages/numpy-1.25.2-py3.11.egg-info due to invalid metadata entry 'name'\u001B[0m\u001B[33m\r\n",
      "\u001B[0m"
     ]
    }
   ],
   "source": [
    "## Import some utils\n",
    "! pip install imageio -q\n",
    "import matplotlib.pyplot as plt\n",
    "import imageio\n",
    "import os\n",
    "import glob\n",
    "import re\n",
    "from datetime import datetime\n",
    "import numpy as np\n",
    "from tqdm.auto import trange, tqdm\n",
    "import warnings\n",
    "\n",
    "from matplotlib import rcParams\n",
    "\n",
    "import colorsys\n",
    "from matplotlib.colors import ColorConverter, LinearSegmentedColormap\n",
    "\n",
    "rcParams.update({\"xtick.major.pad\": \"7.0\"})\n",
    "rcParams.update({\"xtick.major.size\": \"7.5\"})\n",
    "rcParams.update({\"xtick.major.width\": \"1.5\"})\n",
    "rcParams.update({\"xtick.minor.pad\": \"7.0\"})\n",
    "rcParams.update({\"xtick.minor.size\": \"3.5\"})\n",
    "rcParams.update({\"xtick.minor.width\": \"1.0\"})\n",
    "rcParams.update({\"ytick.major.pad\": \"7.0\"})\n",
    "rcParams.update({\"ytick.major.size\": \"7.5\"})\n",
    "rcParams.update({\"ytick.major.width\": \"1.5\"})\n",
    "rcParams.update({\"ytick.minor.pad\": \"7.0\"})\n",
    "rcParams.update({\"ytick.minor.size\": \"3.5\"})\n",
    "rcParams.update({\"ytick.minor.width\": \"1.0\"})\n",
    "rcParams.update({\"font.size\": 20})\n",
    "rcParams.update({\"xtick.top\": True})\n",
    "rcParams.update({\"ytick.right\": True})\n",
    "rcParams.update({\"xtick.direction\": \"in\"})\n",
    "rcParams.update({\"ytick.direction\": \"in\"})\n",
    "\n",
    "\n",
    "def collect_runtimes(func, n_vals, n_trials=2, kwargs={}) -> np.ndarray:\n",
    "    \"\"\"\n",
    "    Collect runtimes for a function with different input sizes\n",
    "\n",
    "    Parameters\n",
    "    ----------\n",
    "    func : function\n",
    "        Function to run\n",
    "    n_vals : list\n",
    "        List of input sizes\n",
    "    n_trials : int, optional\n",
    "        Number of trials to run, by default 2\n",
    "    kwargs : dict, optional\n",
    "        Keyword arguments to pass to func, by default {}\n",
    "\n",
    "    Returns\n",
    "    -------\n",
    "    np.ndarray\n",
    "        Array of runtimes with shape (len(n_vals), n_trials)\n",
    "    \"\"\"\n",
    "    warnings.filterwarnings(\"error\")\n",
    "    runtimes = np.zeros((len(n_vals), n_trials))\n",
    "    for npart_i in trange(len(n_vals), desc=\"Collecting runtimes\"):\n",
    "        for trial_i in range(n_trials):\n",
    "            start = datetime.now()\n",
    "            n = n_vals[npart_i]\n",
    "            try:\n",
    "                func(N=n, **kwargs)\n",
    "                runtimes[npart_i, trial_i] = get_runtime(start)\n",
    "            except RuntimeWarning:\n",
    "                runtimes[npart_i, trial_i] = np.nan\n",
    "    return runtimes\n",
    "\n",
    "\n",
    "def get_runtime(start: datetime):\n",
    "    return (datetime.now() - start).total_seconds()\n",
    "\n",
    "\n",
    "def make_gif(im_regex, outname, duration=0.1):\n",
    "    imgs = glob.glob(im_regex)\n",
    "    imgs = sorted(imgs, key=lambda x: int(re.findall(r\"\\d+\", x)[0]))\n",
    "    frames = [imageio.imread_v2(f) for f in imgs]\n",
    "    imageio.mimsave(outname, frames, duration=duration)\n",
    "    for f in imgs:\n",
    "        os.remove(f)\n",
    "\n",
    "\n",
    "def remove_spines(ax):\n",
    "    \"\"\"Remove all spines and ticks from an axis\"\"\"\n",
    "    for spine in ax.spines.values():\n",
    "        spine.set_visible(False)\n",
    "    ax.set_yticks([])\n",
    "    ax.set_xticks([])\n",
    "\n",
    "\n",
    "def scale_color_brightness(color, scale_l=1.0):\n",
    "    rgb = ColorConverter.to_rgb(color)\n",
    "    # convert rgb to hls\n",
    "    h, l, s = colorsys.rgb_to_hls(*rgb)\n",
    "    # manipulate h, l, s values and return as rgb\n",
    "    return colorsys.hls_to_rgb(h, min(1, l * scale_l), s=s)\n",
    "\n",
    "\n",
    "def make_colormap(color):\n",
    "    rgb = [\n",
    "        (i, scale_color_brightness(color, scale_l=i + 1)) for i in np.linspace(0, 1, 30)\n",
    "    ]\n",
    "    cmap = LinearSegmentedColormap.from_list(f\"custom_{color}\", colors=rgb, N=256)\n",
    "    cmap = cmap.reversed()\n",
    "    return cmap\n"
   ],
   "metadata": {
    "collapsed": false
   }
  },
  {
   "cell_type": "markdown",
   "source": [
    "# N-Body Simulation\n",
    "\n",
    "Below we have a basic implementation of an N-body simulation. We will use this as a baseline to compare against a vectorized/Cupy/multiprocessing implementations.\n",
    "\n",
    "There are two main functions:\n",
    "- the `newtonian_acceleration(pos, mass, G, softening)` which calculates the acceleration of each particle due to the gravitational force from all other particles. This is the most computationally expensive part of the simulation.\n",
    "- the `nbody_runner()` which runs the simulation for a given number of particles and time steps.\n",
    "\n",
    "## Basic \"Loop\" Implementation\n"
   ],
   "metadata": {
    "collapsed": false
   }
  },
  {
   "cell_type": "code",
   "execution_count": 47,
   "outputs": [
    {
     "name": "stdout",
     "output_type": "stream",
     "text": [
      "25.6 ms ± 0 ns per loop (mean ± std. dev. of 1 run, 1 loop each)\n"
     ]
    }
   ],
   "source": [
    "from datetime import datetime\n",
    "from tqdm.auto import trange\n",
    "from typing import List, Union\n",
    "import numpy as np\n",
    "import matplotlib.pyplot as plt\n",
    "import os\n",
    "import random\n",
    "\n",
    "G = 1.0  # Gravitational Constant\n",
    "OUTDIR = 'orbit_out/'\n",
    "\n",
    "\n",
    "### Basic Lists ###\n",
    "def newtonian_acceleration_basic(pos, mass, G, softening):\n",
    "    # positions r = [x,y,z] for all particles\n",
    "    x = [p[0] for p in pos]\n",
    "    y = [p[1] for p in pos]\n",
    "    z = [p[2] for p in pos]\n",
    "\n",
    "    # matrix that stores all pairwise particle separations: r_j - r_i\n",
    "    dx = [[x[j] - x[i] for j in range(len(pos))] for i in range(len(pos))]\n",
    "    dy = [[y[j] - y[i] for j in range(len(pos))] for i in range(len(pos))]\n",
    "    dz = [[z[j] - z[i] for j in range(len(pos))] for i in range(len(pos))]\n",
    "\n",
    "    # matrix that stores 1/r^3 for all particle pairwise particle separations\n",
    "    inv_r3 = [\n",
    "        [\n",
    "            (dx[i][j] ** 2 + dy[i][j] ** 2 + dz[i][j] ** 2 + softening ** 2)\n",
    "            for j in range(len(pos))\n",
    "        ]\n",
    "        for i in range(len(pos))\n",
    "    ]\n",
    "    for i in range(len(pos)):\n",
    "        for j in range(len(pos)):\n",
    "            if inv_r3[i][j] > 0:\n",
    "                inv_r3[i][j] = inv_r3[i][j] ** (-1.5)\n",
    "\n",
    "    ax = [G * sum(dx[i][j] * inv_r3[i][j] for j in range(len(pos))) * mass[i] for i in range(len(pos))]\n",
    "    ay = [G * sum(dy[i][j] * inv_r3[i][j] for j in range(len(pos))) * mass[i] for i in range(len(pos))]\n",
    "    az = [G * sum(dz[i][j] * inv_r3[i][j] for j in range(len(pos))) * mass[i] for i in range(len(pos))]\n",
    "\n",
    "    # pack together the acceleration components\n",
    "    a = [(ax[i], ay[i], az[i]) for i in range(len(pos))]\n",
    "\n",
    "    return a\n",
    "\n",
    "\n",
    "def nbody_runner_basic(\n",
    "        N=5,\n",
    "        tEnd=5.0,\n",
    "        dt=0.01,\n",
    "        softening=0.1,\n",
    "        random_seed=17,\n",
    "        max_runtime=5,\n",
    "        verbose=True,\n",
    "):\n",
    "    \"\"\" N-body simulation \"\"\"\n",
    "\n",
    "    random.seed(random_seed)\n",
    "    # Initialisation\n",
    "    mass = [20.0 / N] * N  # total mass of particles is 20\n",
    "    pos = [[random.random() for _ in range(3)] for _ in range(N)]  # randomly selected positions and velocities\n",
    "    vel = [[random.random() for _ in range(3)] for _ in range(N)]\n",
    "    t = 0\n",
    "    Nt = int(np.ceil(tEnd / dt))\n",
    "    runtime_start = datetime.now()\n",
    "    vel_mean = [sum(m * v for m, v in zip(mass, v)) / sum(mass) for v in zip(*vel)]\n",
    "    vel = [[v[i] - vel_mean[i] for i in range(3)] for v in vel]\n",
    "    acc = newtonian_acceleration_basic(pos, mass, G, softening)\n",
    "    pos_save = [[[0.0 for _ in range(3)] for _ in range(N)] for _ in range(Nt + 1)]\n",
    "    for i in range(N):\n",
    "        for j in range(3):\n",
    "            pos_save[i][j][0] = pos[i][j]\n",
    "\n",
    "    # Simulation loop\n",
    "    for i in trange(Nt, disable=not verbose, desc=\"Running simulation\"):\n",
    "        vel = [[v[j] + acc[i][j] * dt / 2.0 for j in range(3)] for i, v in enumerate(vel)]\n",
    "        pos = [[pos[i][j] + vel[i][j] * dt for j in range(3)] for i in range(N)]\n",
    "        acc = newtonian_acceleration_basic(pos, mass, G, softening)\n",
    "        vel = [[v[j] + acc[i][j] * dt / 2.0 for j in range(3)] for i, v in enumerate(vel)]\n",
    "        t += dt\n",
    "        for k in range(N):\n",
    "            for j in range(3):\n",
    "                pos_save[i][k][j] = pos[k][j]\n",
    "        runtime = get_runtime(runtime_start)\n",
    "        if runtime > max_runtime:\n",
    "            warnings.warn(f\"Runtime exceeded {max_runtime} seconds. Stopping simulation.\")\n",
    "            break\n",
    "\n",
    "    pos_save = np.array(pos_save)\n",
    "    pos_save = np.transpose(pos_save, (1, 2, 0))\n",
    "    return pos_save\n",
    "\n",
    "\n",
    "# test that this actually works\n",
    "%timeit -r 1 -n 1 nbody_runner_basic(N=10, random_seed=4, verbose=False, tEnd=1)"
   ],
   "metadata": {
    "collapsed": false
   }
  },
  {
   "cell_type": "markdown",
   "source": [
    "Lets make a plot/gif of the particle positions"
   ],
   "metadata": {
    "collapsed": false
   }
  },
  {
   "cell_type": "code",
   "execution_count": 26,
   "outputs": [],
   "source": [
    "def plot_particles(positions: Union[List, np.ndarray], n_time_total: int = 0, color='tab:blue'):\n",
    "    \"\"\"Plot the positions of particles in 2D\n",
    "\n",
    "    Parameters\n",
    "    ----------\n",
    "    positions : Union[List, np.ndarray]\n",
    "        List of positions of particles. Should be of shape (n_particles, {xyz}, n_time).\n",
    "    n_time_total : int, optional\n",
    "        Total number of time steps (used for plotting the trail), by default 0\n",
    "    color : str, optional\n",
    "        Color of the particles, by default 'tab:blue'\n",
    "    \"\"\"\n",
    "\n",
    "    n_part, _, n_time = positions.shape\n",
    "    if n_time_total == 0:\n",
    "        n_time_total = n_time\n",
    "\n",
    "    fig = plt.figure(figsize=(4, 4), dpi=80)\n",
    "    ax = fig.gca()\n",
    "\n",
    "    # plot the particle orbits\n",
    "    idx_end = np.argmax(np.where(np.sum(positions, axis=(0, 1)) != 0)[0])\n",
    "    idx_start = np.max([int(idx_end - 0.1 * n_time_total), 0])\n",
    "    nidx = idx_end - idx_start\n",
    "\n",
    "    max_size = 10\n",
    "    ax.scatter(\n",
    "        positions[:, 0, idx_end], positions[:, 1, idx_end],\n",
    "        s=max_size, color=color, ec='k', lw=0.5\n",
    "    )\n",
    "\n",
    "    # plot the trail\n",
    "    if nidx > 1:\n",
    "        ms = np.geomspace(1e-4, max_size, nidx)\n",
    "        # set ms < 0.05 to 0\n",
    "        mask = ms < 0.05\n",
    "        ms[mask] = 0\n",
    "\n",
    "        # colors = np.array([make_colormap('tab:blue', 'white')(i) for i in np.linspace(0, 1, nidx)])\n",
    "        ax.scatter(\n",
    "            positions[:, 0, idx_start:idx_end], positions[:, 1, idx_start:idx_end],\n",
    "            s=[ms] * n_part, zorder=-10,\n",
    "            c=[ms] * n_part,\n",
    "            cmap=make_colormap(color),\n",
    "\n",
    "        )\n",
    "\n",
    "    ax.set_xlim(-2, 2)\n",
    "    ax.set_ylim(-2, 2)\n",
    "    ax = plt.gca()\n",
    "    remove_spines(ax)\n",
    "    ax.set_aspect('equal', 'box')\n",
    "    # remove white border around figure\n",
    "    fig.tight_layout(pad=0)\n",
    "    return fig\n",
    "\n",
    "\n",
    "def plot_particle_gif(pos, outdir, dur):\n",
    "    os.makedirs(outdir, exist_ok=True)\n",
    "    n_part, _, n_time = pos.shape\n",
    "    for i in trange(10, n_time, 10, desc='Making gif'):\n",
    "        fig = plot_particles(pos[:, :, 0:i], n_time_total=n_time, color='tab:blue')\n",
    "        # add textbox in top left corner\n",
    "        ax = plt.gca()\n",
    "        ax.text(\n",
    "            0.05, 0.95,\n",
    "            f't={i:003d}', transform=ax.transAxes,\n",
    "            fontsize=14, verticalalignment='top',\n",
    "            fontstyle='italic',\n",
    "            alpha=0.5,\n",
    "        )\n",
    "        fig.savefig(f'{outdir}/orbit_{i:003d}.png')\n",
    "        plt.close(fig)\n",
    "    make_gif(f'{outdir}/orbit_*.png', f'{outdir}/orbit.gif', duration=dur)\n",
    "    print(f'Gif saved to {outdir}/orbit.gif')"
   ],
   "metadata": {
    "collapsed": false
   }
  },
  {
   "cell_type": "code",
   "execution_count": 29,
   "outputs": [
    {
     "data": {
      "text/plain": "Running simulation:   0%|          | 0/700 [00:00<?, ?it/s]",
      "application/vnd.jupyter.widget-view+json": {
       "version_major": 2,
       "version_minor": 0,
       "model_id": "1c0508c8d01c4090b54fdcd15a43d0fa"
      }
     },
     "metadata": {},
     "output_type": "display_data"
    },
    {
     "data": {
      "text/plain": "Making gif:   0%|          | 0/70 [00:00<?, ?it/s]",
      "application/vnd.jupyter.widget-view+json": {
       "version_major": 2,
       "version_minor": 0,
       "model_id": "8b19fb21b2ed443e834f8644722796b5"
      }
     },
     "metadata": {},
     "output_type": "display_data"
    },
    {
     "name": "stdout",
     "output_type": "stream",
     "text": [
      "Gif saved to out_basic/orbit.gif\n"
     ]
    }
   ],
   "source": [
    "positions = nbody_runner_basic(N=3, random_seed=1, tEnd=7)\n",
    "plot_particle_gif(positions, outdir='out_basic', dur=2)"
   ],
   "metadata": {
    "collapsed": false
   }
  },
  {
   "cell_type": "markdown",
   "source": [
    "![out_basic/orbit.gif](out_basic/orbit.gif)"
   ],
   "metadata": {
    "collapsed": false
   }
  },
  {
   "cell_type": "markdown",
   "source": [
    "## Numpy-Vectorized Implementation\n",
    "\n",
    "Lets swap some loops in for some numpy vectorized statements.\n",
    "\n",
    "```warning\n",
    "I've left some unvectorized statements for you to optimize and try and vectorize yourself 😊.\n",
    "```"
   ],
   "metadata": {
    "collapsed": false
   }
  },
  {
   "cell_type": "code",
   "execution_count": 64,
   "outputs": [
    {
     "name": "stdout",
     "output_type": "stream",
     "text": [
      "Vectorized time:\n",
      "10.9 ms ± 1.68 ms per loop (mean ± std. dev. of 5 runs, 5 loops each)\n",
      "Basic 'Loop' time:\n",
      "13.8 ms ± 4.81 ms per loop (mean ± std. dev. of 5 runs, 5 loops each)\n"
     ]
    }
   ],
   "source": [
    "\n",
    "def newtonian_acceleration_np(pos, mass, G, softening):\n",
    "    # positions r = [x,y,z] for all particles\n",
    "    x = pos[:, 0:1]\n",
    "    y = pos[:, 1:2]\n",
    "    z = pos[:, 2:3]\n",
    "\n",
    "    # matrix that stores all pairwise particle separations: r_j - r_i\n",
    "    dx = x.T - x\n",
    "    dy = y.T - y\n",
    "    dz = z.T - z\n",
    "\n",
    "    # matrix that stores 1/r^3 for all particle pairwise particle separations\n",
    "    inv_r3 = (dx ** 2 + dy ** 2 + dz ** 2 + softening ** 2)\n",
    "    inv_r3[inv_r3 > 0] = inv_r3[inv_r3 > 0] ** (-1.5)\n",
    "\n",
    "    # pack together the acceleration components\n",
    "    return G * np.hstack((\n",
    "        np.matmul(dx * inv_r3, mass),\n",
    "        np.matmul(dy * inv_r3, mass),\n",
    "        np.matmul(dz * inv_r3, mass)\n",
    "    ))\n",
    "\n",
    "\n",
    "def nbody_runner_np(\n",
    "        N: int = 5,\n",
    "        tEnd: float = 10.0,\n",
    "        dt: float = 0.01,\n",
    "        softening: float = 0.1,\n",
    "        random_seed: int = 17,\n",
    "        max_runtime: int = 5,\n",
    "        verbose: bool = True,\n",
    "):\n",
    "    \"\"\" N-body simulation \"\"\"\n",
    "\n",
    "    # Initialisation\n",
    "    np.random.seed(random_seed)\n",
    "    mass = 20.0 * np.ones((N, 1)) / N  # total mass of particles is 20\n",
    "    pos = np.random.randn(N, 3)  # randomly selected positions and velocities\n",
    "    vel = np.random.randn(N, 3)\n",
    "    t = 0\n",
    "    Nt = int(np.ceil(tEnd / dt))\n",
    "    runtime_start = datetime.now()\n",
    "    vel -= np.mean(mass * vel, 0) / np.mean(mass)\n",
    "    acc = newtonian_acceleration_np(pos, mass, G, softening)\n",
    "    pos_save = np.zeros((N, 3, Nt + 1))\n",
    "    pos_save[:, :, 0] = pos\n",
    "\n",
    "    # Simulation loop\n",
    "    for i in trange(Nt, desc=\"Running simulation\", disable=not verbose):\n",
    "        vel += acc * dt / 2.0\n",
    "        pos += vel * dt\n",
    "        acc = newtonian_acceleration_np(pos, mass, G, softening)\n",
    "        vel += acc * dt / 2.0\n",
    "        t += dt\n",
    "        pos_save[:, :, i + 1] = pos\n",
    "        runtime = get_runtime(runtime_start)\n",
    "        if runtime > max_runtime:\n",
    "            warnings.warn(f\"Runtime exceeded {max_runtime} seconds. Stopping simulation.\")\n",
    "            break\n",
    "    return pos_save\n",
    "\n",
    "\n",
    "# test that this actually works\n",
    "print(\"Vectorized time:\")\n",
    "%timeit -r 5 -n 5 nbody_runner_np(N=5, random_seed=4, verbose=False, tEnd=1)\n",
    "print(\"Basic 'Loop' time:\")\n",
    "%timeit -r 5 -n 5 nbody_runner_basic(N=5, random_seed=4, verbose=False, tEnd=1)"
   ],
   "metadata": {
    "collapsed": false
   }
  },
  {
   "cell_type": "markdown",
   "source": [
    "## Runtime comparison\n",
    "Lets make a plot of the runtime for different numbers of particles using the two different methods"
   ],
   "metadata": {
    "collapsed": false
   }
  },
  {
   "cell_type": "code",
   "execution_count": 80,
   "outputs": [
    {
     "data": {
      "text/plain": "Collecting runtimes:   0%|          | 0/10 [00:00<?, ?it/s]",
      "application/vnd.jupyter.widget-view+json": {
       "version_major": 2,
       "version_minor": 0,
       "model_id": "1ee67a451eb34600b808d62c8c869f71"
      }
     },
     "metadata": {},
     "output_type": "display_data"
    },
    {
     "data": {
      "text/plain": "Collecting runtimes:   0%|          | 0/10 [00:00<?, ?it/s]",
      "application/vnd.jupyter.widget-view+json": {
       "version_major": 2,
       "version_minor": 0,
       "model_id": "ca31068019034ab8b3888fc7f397575a"
      }
     },
     "metadata": {},
     "output_type": "display_data"
    },
    {
     "data": {
      "text/plain": "<Figure size 500x350 with 1 Axes>",
      "image/png": "[encoded data removed]"
     },
     "metadata": {},
     "output_type": "display_data"
    }
   ],
   "source": [
    "def plot_runtimes(n_particles, n_trials=3):\n",
    "    kwargs = dict(verbose=False, max_runtime=5)\n",
    "    vectorized = collect_runtimes(nbody_runner_np, n_particles, n_trials, kwargs=kwargs)\n",
    "    basic = collect_runtimes(nbody_runner_basic, n_particles, n_trials, kwargs=kwargs)\n",
    "\n",
    "    fig, ax = plt.subplots(figsize=(5,3.5))\n",
    "    ax.set_yscale('log')\n",
    "    for i, (data, label) in enumerate(zip([basic, vectorized], ['Basic', 'Vectorized'])):\n",
    "        ax.plot(n_particles, np.quantile(data, 0.5, axis=1), label=label, color=f'C{i}')\n",
    "        ax.fill_between(\n",
    "            n_particles,\n",
    "            np.quantile(data, 0.05, axis=1),\n",
    "            np.quantile(data, 0.95, axis=1),\n",
    "            alpha=0.3,\n",
    "            color=f'C{i}',\n",
    "        )\n",
    "    ax.set_xlabel('Number of Particles')\n",
    "    ax.set_ylabel('Runtime (s)')\n",
    "    ax.legend(frameon=False, fontsize=14)\n",
    "    plt.tight_layout()\n",
    "    return fig\n",
    "\n",
    "\n",
    "# Here n-trials is the number of times we repeat each simulation to get an average runtime\n",
    "fig = plot_runtimes(n_particles=np.linspace(10, 40, 10,dtype=int), n_trials=4)\n",
    "fig.savefig('nbody_runtimes.png')"
   ],
   "metadata": {
    "collapsed": false
   }
  },
  {
   "cell_type": "markdown",
   "source": [
    "![nbody_runtimes.png](nbody_runtimes.png)"
   ],
   "metadata": {
    "collapsed": false
   }
  },
  {
   "cell_type": "markdown",
   "source": [
    "Lets make a slightly longer gif with more particles using the vectorized implementation."
   ],
   "metadata": {
    "collapsed": false
   }
  },
  {
   "cell_type": "code",
   "execution_count": 79,
   "outputs": [
    {
     "data": {
      "text/plain": "Running simulation:   0%|          | 0/1000 [00:00<?, ?it/s]",
      "application/vnd.jupyter.widget-view+json": {
       "version_major": 2,
       "version_minor": 0,
       "model_id": "ac43e911701e474eb6bc97bdf30eb32e"
      }
     },
     "metadata": {},
     "output_type": "display_data"
    },
    {
     "data": {
      "text/plain": "Making gif:   0%|          | 0/100 [00:00<?, ?it/s]",
      "application/vnd.jupyter.widget-view+json": {
       "version_major": 2,
       "version_minor": 0,
       "model_id": "fc57f1cff2d94495a8c28cf37067b863"
      }
     },
     "metadata": {},
     "output_type": "display_data"
    },
    {
     "name": "stdout",
     "output_type": "stream",
     "text": [
      "Gif saved to out_nb_np/orbit.gif\n"
     ]
    }
   ],
   "source": [
    "positions = nbody_runner_np(N=10, random_seed=1, tEnd=10)\n",
    "plot_particle_gif(positions, outdir='out_nb_np', dur=3)"
   ],
   "metadata": {
    "collapsed": false
   }
  },
  {
   "cell_type": "markdown",
   "source": [
    "![out_nb_np/orbit.gif](out_nb_np/orbit.gif)"
   ],
   "metadata": {
    "collapsed": false
   }
  },
  {
   "cell_type": "markdown",
   "source": [
    "## Questions\n",
    "\n",
    "1. What will happen to the speed of the vectorized implementation as the number of particles increases? Why?\n",
    "2. What is the runtime complexity of the basic implementation? What about the vectorized implementation?\n",
    "3. Can you think of any other ways to speed up the simulation? Plot the runtimes.\n",
    "4. Can you make a `GPU` implementation using `cupy`? (feel free to paste the vectorized code in chatGPT and ask it for help).\n",
    "**Bonus**:\n",
    "5. Can you make a `GPU` implementation such that the simulation runs in `O(N)` time?\n",
    "\n",
    "I'll release the answers after the workshop. (Please remind me if i dont lol)\n",
    "\n",
    "Share your plots/code/cool GIFs down below (in the website version of this page)! 😄"
   ],
   "metadata": {
    "collapsed": false
   }
  }
 ],
 "metadata": {
  "kernelspec": {
   "display_name": "Python 3",
   "language": "python",
   "name": "python3"
  },
  "language_info": {
   "codemirror_mode": {
    "name": "ipython",
    "version": 2
   },
   "file_extension": ".py",
   "mimetype": "text/x-python",
   "name": "python",
   "nbconvert_exporter": "python",
   "pygments_lexer": "ipython2",
   "version": "2.7.6"
  }
 },
 "nbformat": 4,
 "nbformat_minor": 0
}
