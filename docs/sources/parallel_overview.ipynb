{
 "cells": [
  {
   "cell_type": "markdown",
   "metadata": {
    "id": "24EZtpq0hh1z"
   },
   "source": [
    "\n",
    "<a id='parallel'></a>\n",
    "<div id=\"qe-notebook-header\" align=\"right\" style=\"text-align:right;\">\n",
    "        <a href=\"https://quantecon.org/\" title=\"quantecon.org\">\n",
    "                <img style=\"width:250px;display:inline;\" width=\"250px\" src=\"https://assets.quantecon.org/img/qe-menubar-logo.svg\" alt=\"QuantEcon\">\n",
    "        </a>\n",
    "</div>"
   ]
  },
  {
   "cell_type": "markdown",
   "metadata": {
    "id": "I8xYMPhVhh12"
   },
   "source": [
    "# Parallelization"
   ]
  },
  {
   "cell_type": "markdown",
   "metadata": {
    "id": "6xYYk74ghh12"
   },
   "source": [
    "## Contents\n",
    "\n",
    "- [Parallelization](#Parallelization)  \n",
    "  - [Overview](#Overview)  \n",
    "  - [Types of Parallelization](#Types-of-Parallelization)  \n",
    "  - [Implicit Multithreading in NumPy](#Implicit-Multithreading-in-NumPy)  \n",
    "  - [Multithreaded Loops in Numba](#Multithreaded-Loops-in-Numba)  \n",
    "  - [Exercises](#Exercises)  \n",
    "  - [Solutions](#Solutions)"
   ]
  },
  {
   "cell_type": "markdown",
   "metadata": {
    "id": "-m8jRm9ohh1-"
   },
   "source": [
    "## Overview\n",
    "\n",
    "The growth of CPU clock speed (i.e., the speed at which a single chain of logic can\n",
    "be run) has slowed dramatically in recent years.\n",
    "\n",
    "This is unlikely to change in the near future, due to inherent physical\n",
    "limitations on the construction of chips and circuit boards.\n",
    "\n",
    "Chip designers and computer programmers have responded to the slowdown by\n",
    "seeking a different path to fast execution: parallelization.\n",
    "\n",
    "Hardware makers have increased the number of cores (physical CPUs) embedded in each machine.\n",
    "\n",
    "For programmers, the challenge has been to exploit these multiple CPUs by running many processes in parallel (i.e., simultaneously).\n",
    "\n",
    "This is particularly important in scientific programming, which requires handling\n",
    "\n",
    "- large amounts of data and  \n",
    "- CPU intensive simulations and other calculations.  \n",
    "\n",
    "\n",
    "In this lecture we discuss parallelization for scientific computing, with a focus on\n",
    "\n",
    "1. the best tools for parallelization in Python and  \n",
    "1. how these tools can be applied to quantitative economic problems.  \n",
    "\n",
    "\n",
    "Let’s start with some imports:"
   ]
  },
  {
   "cell_type": "code",
   "execution_count": null,
   "metadata": {
    "hide-output": false,
    "id": "qg72-Nochh1-"
   },
   "outputs": [],
   "source": [
    "import numpy as np\n",
    "import matplotlib.pyplot as plt\n",
    "\n",
    "%matplotlib inline"
   ]
  },
  {
   "cell_type": "markdown",
   "metadata": {
    "id": "lVJXCkWQhh1_"
   },
   "source": [
    "## Types of Parallelization\n",
    "\n",
    "Large textbooks have been written on different approaches to parallelization but we will keep a tight focus on what’s most useful to us.\n",
    "\n",
    "We will briefly review the two main kinds of parallelization commonly used in\n",
    "scientific computing and discuss their pros and cons."
   ]
  },
  {
   "cell_type": "markdown",
   "metadata": {
    "id": "C7JNazR1hh1_"
   },
   "source": [
    "### Multiprocessing\n",
    "\n",
    "Multiprocessing means concurrent execution of multiple processes using more than one processor.\n",
    "\n",
    "In this context, a **process** is a chain of instructions (i.e., a program).\n",
    "\n",
    "Multiprocessing can be carried out on one machine with multiple CPUs or on a\n",
    "collection of machines connected by a network.\n",
    "\n",
    "In the latter case, the collection of machines is usually called a\n",
    "**cluster**.\n",
    "\n",
    "With multiprocessing, each process has its own memory space, although the\n",
    "physical memory chip might be shared."
   ]
  },
  {
   "cell_type": "markdown",
   "metadata": {
    "id": "OGX9fkamhh1_"
   },
   "source": [
    "### Multithreading\n",
    "\n",
    "Multithreading is similar to multiprocessing, except that, during execution, the threads all share the same memory space.\n",
    "\n",
    "Native Python struggles to implement multithreading due to some [legacy design\n",
    "features](https://wiki.python.org/moin/GlobalInterpreterLock).\n",
    "\n",
    "But this is not a restriction for scientific libraries like NumPy and Numba.\n",
    "\n",
    "Functions imported from these libraries and JIT-compiled code run in low level\n",
    "execution environments where Python’s legacy restrictions don’t apply."
   ]
  },
  {
   "cell_type": "markdown",
   "metadata": {
    "id": "aFeR2Xr8hh1_"
   },
   "source": [
    "### Advantages and Disadvantages\n",
    "\n",
    "Multithreading is more lightweight because most system and memory resources\n",
    "are shared by the threads.\n",
    "\n",
    "In addition, the fact that multiple threads all access a shared pool of memory\n",
    "is extremely convenient for numerical programming.\n",
    "\n",
    "On the other hand, multiprocessing is more flexible and can be distributed\n",
    "across clusters.\n",
    "\n",
    "For the great majority of what we do in these lectures, multithreading will\n",
    "suffice."
   ]
  },
  {
   "cell_type": "markdown",
   "metadata": {
    "id": "zXQ0d9MChh1_"
   },
   "source": [
    "## Implicit Multithreading in NumPy\n",
    "\n",
    "Actually, you have already been using multithreading in your Python code,\n",
    "although you might not have realized it.\n",
    "\n",
    "(We are, as usual, assuming that you are running the latest version of\n",
    "Anaconda Python.)\n",
    "\n",
    "This is because NumPy cleverly implements multithreading in a lot of its\n",
    "compiled code.\n",
    "\n",
    "Let’s look at some examples to see this in action."
   ]
  },
  {
   "cell_type": "markdown",
   "metadata": {
    "id": "WmNqlxqjhh2A"
   },
   "source": [
    "### A Matrix Operation\n",
    "\n",
    "The next piece of code computes the eigenvalues of a large number of randomly\n",
    "generated matrices.\n",
    "\n",
    "It takes a few seconds to run."
   ]
  },
  {
   "cell_type": "code",
   "execution_count": null,
   "metadata": {
    "hide-output": false,
    "id": "-_3XXOBqhh2A"
   },
   "outputs": [],
   "source": [
    "n = 20\n",
    "m = 1000\n",
    "for i in range(n):\n",
    "    X = np.random.randn(m, m)\n",
    "    λ = np.linalg.eigvals(X)"
   ]
  },
  {
   "cell_type": "markdown",
   "metadata": {
    "id": "7XyDPGrZhh2A"
   },
   "source": [
    "Now, let’s look at the output of the htop system monitor on our machine while\n",
    "this code is running:\n",
    "\n",
    "<img src=\"https://s3-ap-southeast-2.amazonaws.com/python.quantecon.org/_static/lecture_specific/parallelization/htop_parallel_npmat.png\" style=\"\">\n",
    "\n",
    "  \n",
    "We can see that 4 of the 8 CPUs are running at full speed.\n",
    "\n",
    "This is because NumPy’s `eigvals` routine neatly splits up the tasks and\n",
    "distributes them to different threads."
   ]
  },
  {
   "cell_type": "markdown",
   "metadata": {
    "id": "_f8v76njhh2A"
   },
   "source": [
    "### A Multithreaded Ufunc\n",
    "\n",
    "Over the last few years, NumPy has managed to push this kind of multithreading\n",
    "out to more and more operations.\n",
    "\n",
    "For example, let’s return to a maximization problem [discussed previously](https://python.quantecon.org/need_for_speed.html#ufuncs):"
   ]
  },
  {
   "cell_type": "code",
   "execution_count": null,
   "metadata": {
    "hide-output": false,
    "id": "81-DABEphh2A"
   },
   "outputs": [],
   "source": [
    "def f(x, y):\n",
    "    return np.cos(x**2 + y**2) / (1 + x**2 + y**2)\n",
    "\n",
    "grid = np.linspace(-3, 3, 5000)\n",
    "x, y = np.meshgrid(grid, grid)"
   ]
  },
  {
   "cell_type": "code",
   "execution_count": null,
   "metadata": {
    "hide-output": false,
    "id": "RUVQKOnmhh2A"
   },
   "outputs": [],
   "source": [
    "%timeit np.max(f(x, y))"
   ]
  },
  {
   "cell_type": "markdown",
   "metadata": {
    "id": "s0csxrz5hh2A"
   },
   "source": [
    "If you have a system monitor such as htop (Linux/Mac) or perfmon\n",
    "(Windows), then try running this and then observing the load on your CPUs.\n",
    "\n",
    "(You will probably need to bump up the grid size to see large effects.)\n",
    "\n",
    "At least on our machine, the output shows that the operation is successfully\n",
    "distributed across multiple threads.\n",
    "\n",
    "This is one of the reasons why the vectorized code above is fast."
   ]
  },
  {
   "cell_type": "code",
   "execution_count": null,
   "outputs": [],
   "source": [
    "from numba import vectorize\n",
    "\n",
    "@vectorize\n",
    "def f_vec(x, y):\n",
    "    return np.cos(x**2 + y**2) / (1 + x**2 + y**2)\n",
    "\n",
    "np.max(f_vec(x, y))  # Run once to compile"
   ],
   "metadata": {
    "collapsed": false
   }
  },
  {
   "cell_type": "code",
   "execution_count": null,
   "outputs": [],
   "source": [
    "%timeit np.max(f_vec(x, y))"
   ],
   "metadata": {
    "collapsed": false
   }
  },
  {
   "cell_type": "markdown",
   "source": [
    "At least on our machine, the difference in the speed between the\n",
    "Numba version and the vectorized NumPy version shown above is not large.\n",
    "\n",
    "But there’s quite a bit going on here so let’s try to break down what is\n",
    "happening.\n",
    "\n",
    "Both Numba and NumPy use efficient machine code that’s specialized to these\n",
    "floating point operations.\n",
    "\n",
    "However, the code NumPy uses is, in some ways, less efficient.\n",
    "\n",
    "The reason is that, in NumPy, the operation `np.cos(x**2 + y**2) / (1 +\n",
    "x**2 + y**2)` generates several intermediate arrays.\n",
    "\n",
    "For example, a new array is created when `x**2` is calculated.\n",
    "\n",
    "The same is true when `y**2` is calculated, and then `x**2 + y**2` and so on.\n",
    "\n",
    "Numba avoids creating all these intermediate arrays by compiling one\n",
    "function that is specialized to the entire operation.\n",
    "\n",
    "But if this is true, then why isn’t the Numba code faster?\n",
    "\n",
    "The reason is that NumPy makes up for its disadvantages with implicit\n",
    "multithreading, as we’ve just discussed."
   ],
   "metadata": {
    "collapsed": false
   }
  },
  {
   "cell_type": "markdown",
   "metadata": {
    "id": "AnMn4wcShh2A"
   },
   "source": [
    "### Multithreading a Numba Ufunc\n",
    "\n",
    "Can we get both of these advantages at once?\n",
    "\n",
    "In other words, can we pair\n",
    "\n",
    "- the efficiency of Numba’s highly specialized JIT compiled function and  \n",
    "- the speed gains from parallelization obtained by NumPy’s implicit\n",
    "  multithreading?  \n",
    "\n",
    "\n",
    "It turns out that we can, by adding some type information plus `target='parallel'`."
   ]
  },
  {
   "cell_type": "code",
   "execution_count": null,
   "metadata": {
    "hide-output": false,
    "id": "SNNzjiBBhh2A"
   },
   "outputs": [],
   "source": [
    "@vectorize('float64(float64, float64)', target='parallel')\n",
    "def f_vec(x, y):\n",
    "    return np.cos(x**2 + y**2) / (1 + x**2 + y**2)\n",
    "\n",
    "np.max(f_vec(x, y))  # Run once to compile"
   ]
  },
  {
   "cell_type": "code",
   "execution_count": null,
   "outputs": [],
   "source": [
    "%timeit np.max(f_vec(x, y))"
   ],
   "metadata": {
    "collapsed": false
   }
  },
  {
   "cell_type": "markdown",
   "metadata": {
    "id": "dxpR45Gvhh2B"
   },
   "source": [
    "Now our code runs significantly faster than the NumPy version."
   ]
  },
  {
   "cell_type": "markdown",
   "metadata": {
    "id": "IXU1xYQFhh2F"
   },
   "source": [
    "### A Warning\n",
    "\n",
    "Parallelization works well in the outer loop of the last example because the individual tasks inside the loop are independent of each other.\n",
    "\n",
    "If this independence fails then parallelization is often problematic.\n",
    "\n",
    "For example, each step inside the inner loop depends on the last step, so\n",
    "independence fails, and this is why we use ordinary `range` instead of `prange`.\n",
    "\n",
    "When you see us using `prange` in later lectures, it is because the\n",
    "independence of tasks holds true.\n",
    "\n",
    "When you see us using ordinary `range` in a jitted function, it is either because the speed gain from parallelization is small or because independence fails."
   ]
  },
  {
   "cell_type": "markdown",
   "metadata": {
    "id": "lyP1baPOhh2F"
   },
   "source": [
    "## Exercises"
   ]
  },
  {
   "cell_type": "markdown",
   "metadata": {
    "id": "lQ7WfFXDhh2F"
   },
   "source": [
    "### Exercise 1\n",
    "\n",
    "In [an earlier exercise](https://python.quantecon.org/numba.html#speed-ex1), we used Numba to accelerate an\n",
    "effort to compute the constant $ \\pi $ by Monte Carlo.\n",
    "\n",
    "Now try adding parallelization and see if you get further speed gains.\n",
    "\n",
    "You should not expect huge gains here because, while there are many\n",
    "independent tasks (draw point and test if in circle), each one has low\n",
    "execution time.\n",
    "\n",
    "Generally speaking, parallelization is less effective when the individual\n",
    "tasks to be parallelized are very small relative to total execution time.\n",
    "\n",
    "This is due to overheads associated with spreading all of these small tasks across multiple CPUs.\n",
    "\n",
    "Nevertheless, with suitable hardware, it is possible to get nontrivial speed gains in this exercise.\n",
    "\n",
    "For the size of the Monte Carlo simulation, use something substantial, such as\n",
    "`n = 100_000_000`."
   ]
  },
  {
   "cell_type": "markdown",
   "metadata": {
    "id": "u-UB7J5Nhh2G"
   },
   "source": [
    "## Solutions"
   ]
  },
  {
   "cell_type": "markdown",
   "metadata": {
    "id": "LnNhtG33hh2G"
   },
   "source": [
    "### Exercise 1\n",
    "\n",
    "Here is one solution:"
   ]
  },
  {
   "cell_type": "code",
   "execution_count": 19,
   "metadata": {
    "hide-output": false,
    "id": "Cc8vZJfOhh2G"
   },
   "outputs": [
    {
     "name": "stdout",
     "output_type": "stream",
     "text": [
      "CPU times: user 137 ms, sys: 3.92 ms, total: 141 ms\n",
      "Wall time: 141 ms\n"
     ]
    },
    {
     "data": {
      "text/plain": "3.14206"
     },
     "execution_count": 19,
     "metadata": {},
     "output_type": "execute_result"
    }
   ],
   "source": [
    "from random import uniform\n",
    "import numpy as np\n",
    "from numba import jit as njit\n",
    "from numba import prange\n",
    "\n",
    "@njit(parallel=False, nopython=True)\n",
    "def calculate_pi(n=1_000_000):\n",
    "    count = 0\n",
    "    for i in prange(n):\n",
    "        u, v = uniform(0, 1), uniform(0, 1)\n",
    "        d = np.sqrt((u - 0.5)**2 + (v - 0.5)**2)\n",
    "        if d < 0.5:\n",
    "            count += 1\n",
    "\n",
    "    area_estimate = count / n\n",
    "    return area_estimate * 4  # dividing by radius**2\n",
    "\n",
    "%time calculate_pi()"
   ]
  },
  {
   "cell_type": "markdown",
   "metadata": {
    "id": "NL5WnWt8hh2G"
   },
   "source": [
    "Now let’s see how fast it runs:"
   ]
  },
  {
   "cell_type": "code",
   "execution_count": 18,
   "metadata": {
    "hide-output": false,
    "id": "AJQWLSebhh2G"
   },
   "outputs": [
    {
     "name": "stdout",
     "output_type": "stream",
     "text": [
      "CPU times: user 622 ms, sys: 10.7 ms, total: 633 ms\n",
      "Wall time: 678 ms\n"
     ]
    },
    {
     "data": {
      "text/plain": "3.142072"
     },
     "execution_count": 18,
     "metadata": {},
     "output_type": "execute_result"
    }
   ],
   "source": [
    "@njit(parallel=True, nopython=True)\n",
    "def calculate_pi(n=1_000_000):\n",
    "    count = 0\n",
    "    for i in prange(n):\n",
    "        u, v = uniform(0, 1), uniform(0, 1)\n",
    "        d = np.sqrt((u - 0.5)**2 + (v - 0.5)**2)\n",
    "        if d < 0.5:\n",
    "            count += 1\n",
    "\n",
    "    area_estimate = count / n\n",
    "    return area_estimate * 4  # dividing by radius**2\n",
    "\n",
    "%time calculate_pi()"
   ]
  },
  {
   "cell_type": "markdown",
   "metadata": {
    "id": "IT5FL5JNhh2G"
   },
   "source": [
    "By switching parallelization on and off (selecting `True` or\n",
    "`False` in the `@njit` annotation), we can test the speed gain that\n",
    "multithreading provides on top of JIT compilation.\n",
    "\n",
    "On our workstation, we find that parallelization increases execution speed by\n",
    "a factor of 2 or 3.\n",
    "\n",
    "(If you are executing locally, you will get different numbers, depending mainly\n",
    "on the number of CPUs on your machine.)"
   ]
  },
  {
   "cell_type": "code",
   "execution_count": null,
   "outputs": [],
   "source": [],
   "metadata": {
    "collapsed": false
   }
  }
 ],
 "metadata": {
  "date": 1.5843347516544552E9,
  "filename": "parallelization.rst",
  "kernelspec": {
   "display_name": "Python",
   "language": "python3",
   "name": "python3"
  },
  "title": "Parallelization",
  "colab": {
   "provenance": []
  }
 },
 "nbformat": 4,
 "nbformat_minor": 0
}
