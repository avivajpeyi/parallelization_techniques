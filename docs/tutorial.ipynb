{
 "cells": [
  {
   "cell_type": "code",
   "execution_count": 2,
   "outputs": [],
   "source": [
    "import numpy as np\n",
    "import matplotlib.pyplot as plt"
   ],
   "metadata": {
    "collapsed": false
   }
  },
  {
   "cell_type": "markdown",
   "source": [
    "# Parallelization Techniques (focus on SIMD)\n",
    "\n",
    "\n",
    "## Background\n",
    "\n",
    "The pioneer of multiprocessing, [Seymour Cray](https://www.britannica.com/biography/Seymour-R-Cray), once said:\n",
    "> If you were plowing a field, which would you rather use? Two strong oxen or 1024 chickens?”\n",
    ">\n",
    "> - Seymour Cray,\n",
    "\n",
    "### plots\n",
    "\n",
    "\n",
    "### Flynn's taxonomy and \"types\" of parallelization\n",
    "\n",
    "\n",
    "\n",
    "\n",
    "### What we will look at\n",
    "\n",
    "\n",
    "\n",
    "```note\n",
    "We will focus on the SIMD (Single Instruction Multiple Data) type of parallelization.\n",
    "```\n",
    "\n",
    "```\n",
    "\n",
    "##\n",
    "\n",
    "\n",
    "\n",
    "[Chicken vs T-rex](https://www.youtube.com/watch?v=Tc_JWE_ypEk)\n"
   ],
   "metadata": {
    "collapsed": false
   }
  },
  {
   "cell_type": "markdown",
   "source": [
    "## DEMO 1: using `vectorization`\n",
    "\n",
    "\n",
    "\n"
   ],
   "metadata": {
    "collapsed": false
   }
  },
  {
   "cell_type": "code",
   "execution_count": 3,
   "outputs": [],
   "source": [
    "\n",
    "n=10000\n",
    "# Generate n random numbers between 0 - 1\n",
    "theta = np.random.rand(n)\n",
    "#Generate n random integers between 0 - 100\n",
    "x = np.random.randint(0, 100, n)\n",
    "\n",
    "\n",
    "# Unvectorized\n",
    "def unvectorized(n, theta, x):\n",
    "\n",
    "    prediction= 0.0\n",
    "\n",
    "    for j in range(n):\n",
    "        prediction= prediction + theta[j]*x[j]\n",
    "\n",
    "    return prediction\n",
    "\n",
    "\n",
    "\n",
    "# Vectorized\n",
    "def vectorized(theta, x):\n",
    "\n",
    "    prediction= 0.0\n",
    "\n",
    "    prediction = np.dot(theta.transpose() , x)\n",
    "\n",
    "    return prediction\n",
    "#Comparing Performance\n",
    "%timeit unvectorized(n, theta, x)\n",
    "%timeit vectorized(theta, x)\n"
   ],
   "metadata": {
    "collapsed": false
   }
  },
  {
   "cell_type": "markdown",
   "source": [
    "## DEMO 2: Parallelization with `multithreading`"
   ],
   "metadata": {
    "collapsed": false
   },
   "execution_count": 1
  },
  {
   "cell_type": "markdown",
   "source": [
    "## DEMO 3: Parallelization with `multiprocessing`"
   ],
   "metadata": {
    "collapsed": false
   }
  },
  {
   "cell_type": "markdown",
   "source": [
    "## DEMO 4: Parallelization with `mpi`"
   ],
   "metadata": {
    "collapsed": false
   }
  },
  {
   "cell_type": "markdown",
   "source": [
    "## DEMO 5: Parallel \"jobs\" on a cluster\n"
   ],
   "metadata": {
    "collapsed": false
   }
  },
  {
   "cell_type": "markdown",
   "source": [
    "## FAQ\n",
    "\n",
    "### Do I need to parallelize my code?\n",
    "\n",
    "### Difference between `multiprocessing` and `multithreading`?\n",
    "\n"
   ],
   "metadata": {
    "collapsed": false
   }
  },
  {
   "cell_type": "code",
   "execution_count": null,
   "outputs": [],
   "source": [],
   "metadata": {
    "collapsed": false
   }
  }
 ],
 "metadata": {
  "kernelspec": {
   "display_name": "Python 3",
   "language": "python",
   "name": "python3"
  },
  "language_info": {
   "codemirror_mode": {
    "name": "ipython",
    "version": 2
   },
   "file_extension": ".py",
   "mimetype": "text/x-python",
   "name": "python",
   "nbconvert_exporter": "python",
   "pygments_lexer": "ipython2",
   "version": "2.7.6"
  }
 },
 "nbformat": 4,
 "nbformat_minor": 0
}
