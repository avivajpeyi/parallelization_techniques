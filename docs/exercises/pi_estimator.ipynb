{
 "cells": [
  {
   "cell_type": "markdown",
   "metadata": {},
   "source": [
    "<a target=\"_blank\" href=\"https://colab.research.google.com/github/avivajpeyi/parallelization_techniques/blob/main/docs/exercises/pi_estimator.ipynb\">\n",
    "  <img src=\"https://colab.research.google.com/assets/colab-badge.svg\" alt=\"Open In Colab\"/>\n",
    "</a>\n",
    "\n",
    "# π-Estimator\n",
    "\n",
    "**Monte Carlo Estimation**\n",
    "\n",
    "Monte Carlo methods are a variety of computational techniques that involve repeatedly sampling random values to obtain numerical outcomes.\n",
    "An easy example of starting with the Monte Carlo algorithm is approximating the value of π.\n",
    "\n",
    "**Estimating π**\n",
    "\n",
    "- Imagine a circle (radius r, centered at 0,0) inscribed in a square on a 2-D plane (side 2r, centered at 0,0).\n",
    "- Add some random (x, y) points within the square and check how many fall within the circle (x² + y² ≤ 1).\n",
    "- By comparing the counts of points in and out of the circle and square, we can estimate π (π ~ 4 * (circle count / square count).\n",
    "- _More iterations improve accuracy_.\n",
    "\n",
    "\n",
    "The math works out as follows:\n",
    "\n",
    "- The area of the square is 2r*2r = 4r².\n",
    "- The area of the circle is πr².\n",
    "\n",
    "$$ \\frac{\\rm area(circle)}{\\rm area(square)} = \\frac{\\pi r^2}{4 r^2}$$\n",
    "$$ \\implies \\pi = 4 \\frac{\\rm area(circle)}{\\rm area(square)} $$\n",
    "\n",
    "\n",
    "\n"
   ]
  },
  {
   "cell_type": "code",
   "execution_count": 96,
   "metadata": {
    "tags": [
     "hide-cell"
    ]
   },
   "outputs": [],
   "source": [
    "import imageio\n",
    "from matplotlib import rcParams\n",
    "\n",
    "rcParams.update({\"xtick.major.pad\": \"7.0\"})\n",
    "rcParams.update({\"xtick.major.size\": \"7.5\"})\n",
    "rcParams.update({\"xtick.major.width\": \"1.5\"})\n",
    "rcParams.update({\"xtick.minor.pad\": \"7.0\"})\n",
    "rcParams.update({\"xtick.minor.size\": \"3.5\"})\n",
    "rcParams.update({\"xtick.minor.width\": \"1.0\"})\n",
    "rcParams.update({\"ytick.major.pad\": \"7.0\"})\n",
    "rcParams.update({\"ytick.major.size\": \"7.5\"})\n",
    "rcParams.update({\"ytick.major.width\": \"1.5\"})\n",
    "rcParams.update({\"ytick.minor.pad\": \"7.0\"})\n",
    "rcParams.update({\"ytick.minor.size\": \"3.5\"})\n",
    "rcParams.update({\"ytick.minor.width\": \"1.0\"})\n",
    "rcParams.update({\"font.size\": 20})\n",
    "rcParams.update({\"xtick.top\": True})\n",
    "rcParams.update({\"ytick.right\": True})\n",
    "rcParams.update({\"xtick.direction\": \"in\"})\n",
    "rcParams.update({\"ytick.direction\": \"in\"})\n",
    "\n",
    "\n",
    "\n",
    "def remove_spines(ax):\n",
    "    \"\"\"Remove all spines and ticks from an axis\"\"\"\n",
    "    for spine in ax.spines.values():\n",
    "        spine.set_visible(False)\n",
    "    ax.set_yticks([])\n",
    "    ax.set_xticks([])\n"
   ]
  },
  {
   "cell_type": "markdown",
   "metadata": {},
   "source": [
    "\n",
    "## Base Implementation\n",
    "\n",
    "Here is a simple python implementation:\n",
    "\n",
    "First, we need to save the code in a file (we'll need this later for multiprocessing):"
   ]
  },
  {
   "cell_type": "code",
   "execution_count": 65,
   "metadata": {},
   "outputs": [
    {
     "name": "stdout",
     "output_type": "stream",
     "text": [
      "Overwriting pi_estimator.py\n"
     ]
    }
   ],
   "source": [
    "%%writefile pi_estimator.py\n",
    "\n",
    "import random\n",
    "\n",
    "def pi_estimation(n=100_000):\n",
    "    circle_points = 0\n",
    "    square_points = 0\n",
    "    for i in range(n):\n",
    "        rand_x = random.uniform(-1, 1)\n",
    "        rand_y = random.uniform(-1, 1)\n",
    "        origin_dist = rand_x ** 2 + rand_y ** 2\n",
    "        if origin_dist <= 1:\n",
    "            circle_points += 1\n",
    "        square_points += 1\n",
    "    return 4 * circle_points / square_points\n"
   ]
  },
  {
   "cell_type": "code",
   "execution_count": 75,
   "metadata": {},
   "outputs": [
    {
     "name": "stdout",
     "output_type": "stream",
     "text": [
      "MC Estimation of Pi (using 10,000 points, 5):\n",
      "3.135+/-0.012\n",
      "Runtime: 0.050 s\n"
     ]
    }
   ],
   "source": [
    "import random\n",
    "import numpy as np\n",
    "from pi_estimator import pi_estimation\n",
    "from time import process_time\n",
    "\n",
    "random.seed(0)\n",
    "\n",
    "\n",
    "def pi_estimation_with_unc(n=100_000, n_trials=5):\n",
    "    t0 = process_time()\n",
    "    pi_vals = np.array([pi_estimation(n=n) for _ in range(n_trials)])\n",
    "    runtime = process_time() - t0\n",
    "    return np.mean(pi_vals), np.std(pi_vals), runtime\n",
    "\n",
    "N = 10_000\n",
    "n_trials = 5\n",
    "\n",
    "\n",
    "pi_vals = pi_estimation_with_unc(N, n_trials)\n",
    "\n",
    "print(f\"MC Estimation of Pi (using {N:,} points, {n_trials}):\\n{pi_vals[0]:.3f}+/-{pi_vals[1]:.3f}\")\n",
    "print(f\"Runtime: {pi_vals[2]:.3f} s\")"
   ]
  },
  {
   "cell_type": "markdown",
   "metadata": {},
   "source": [
    "## Implementation with multiprocessing\n",
    "\n"
   ]
  },
  {
   "cell_type": "code",
   "execution_count": 74,
   "metadata": {},
   "outputs": [
    {
     "name": "stdout",
     "output_type": "stream",
     "text": [
      "MC Estimation of Pi (using 10,000 points, 12 trials):\n",
      "3.140+/-0.017\n",
      "Runtime: 0.008 s\n"
     ]
    }
   ],
   "source": [
    "import multiprocessing as mp\n",
    "from pi_estimator import pi_estimation\n",
    "\n",
    "num_cpu = mp.cpu_count()\n",
    "\n",
    "def parallel_pi_estimation(num_samples, num_processes):\n",
    "    pool = mp.Pool(processes=num_processes)\n",
    "    t0 = process_time()\n",
    "    # we've unrwapped the n_trials loop into the map function call\n",
    "    results = pool.map(pi_estimation, [num_samples] * num_processes)\n",
    "    runtime = process_time() - t0\n",
    "    pool.close()\n",
    "    pool.join()\n",
    "    return np.mean(results), np.std(results), runtime\n",
    "\n",
    "pi_vals = parallel_pi_estimation(N, num_cpu)\n",
    "print(f\"MC Estimation of Pi (using {N:,} points, {num_cpu} trials):\\n{pi_vals[0]:.3f}+/-{pi_vals[1]:.3f}\")\n",
    "print(f\"Runtime: {pi_vals[2]:.3f} s\")"
   ]
  },
  {
   "cell_type": "markdown",
   "metadata": {},
   "source": [
    "## Plots of runtime"
   ]
  },
  {
   "cell_type": "markdown",
   "metadata": {},
   "source": [
    "Let's plot the estimated value and runtime with different N values:"
   ]
  },
  {
   "cell_type": "code",
   "execution_count": null,
   "metadata": {},
   "outputs": [],
   "source": [
    "import matplotlib.pyplot as plt\n",
    "from time import process_time\n",
    "import pandas as pd\n",
    "\n",
    "\n",
    "def compute_runtime_and_values(func, n_vals, n_trials):\n",
    "    data = dict(\n",
    "        pi=np.zeros(len(n_vals)),\n",
    "        pi_unc=np.zeros(len(n_vals)),\n",
    "        runtime=np.zeros(len(n_vals)),\n",
    "        n_vals= n_vals,\n",
    "    )\n",
    "\n",
    "    for i, n in enumerate(n_vals):\n",
    "        results = func(n, n_trials)\n",
    "        data['pi'][i] = results[0]\n",
    "        data['pi_unc'][i] = results[1]\n",
    "        data['runtime'][i] = results[2]\n",
    "\n",
    "    return pd.DataFrame(data)\n",
    "\n",
    "\n",
    "def plot_runtimes_and_pi_value(data):\n",
    "    fig, ax = plt.subplots(2, 1, figsize=(4, 6), sharex=True)\n",
    "    ax[0].axhline(np.pi, color='k', ls='--', zorder=10, label=\"True\")\n",
    "    for i, (label, d) in enumerate(data.items()):\n",
    "        c = f\"C{i}\"\n",
    "        ax[0].plot(d.n_vals, d.pi, color=c)\n",
    "        ax[0].fill_between(n_vals, d.pi - d.pi_unc, d.pi + d.pi_unc, alpha=0.2, color=c, label=label)\n",
    "        ax[1].plot(d.n_vals, d.runtime, color=c)\n",
    "        ax[1].set_xlim(min(d.n_vals), max(d.n_vals))\n",
    "    ax[1].set_xlabel(\"N\")\n",
    "    ax[0].set_ylabel(\"π\")\n",
    "    ax[0].legend(frameon=False, fontsize=14)\n",
    "    ax[1].set_ylabel(\"Runtime (s)\")\n",
    "\n",
    "    ax[1].set_xscale('log')\n",
    "    plt.subplots_adjust(hspace=0)\n",
    "    return fig\n",
    "\n",
    "\n",
    "n_vals = np.geomspace(100, 100_000, 10, dtype=int)\n",
    "n_trials = 12\n",
    "data = dict(\n",
    "    parallel=compute_runtime_and_values(parallel_pi_estimation, n_vals, n_trials),\n",
    "    serial=compute_runtime_and_values(pi_estimation_with_unc, n_vals, n_trials),\n",
    ")\n",
    "fig = plot_runtimes_and_pi_value(data)\n",
    "fig.savefig(\"pi_estimation_runtimes.png\", dpi=100, bbox_inches='tight')"
   ]
  },
  {
   "cell_type": "markdown",
   "metadata": {},
   "source": [
    "![pi_estimation_runtimes](https://github.com/avivajpeyi/parallelization_techniques/assets/15642823/dfa44271-2757-45ee-8b99-da43a825c813)\n",
    "\n",
    "\n",
    "The parallel-multiprocess runtime is doing so much better!\n",
    "\n",
    "\n",
    "![](https://media.tenor.com/13nqCZN1pb4AAAAC/minion-king.gif)\n",
    "\n",
    "_what happens if we increase N further?_\n",
    "\n",
    "Finally, lets also make a gif for fun :D"
   ]
  },
  {
   "cell_type": "code",
   "execution_count": 107,
   "metadata": {},
   "outputs": [
    {
     "data": {
      "application/vnd.jupyter.widget-view+json": {
       "model_id": "3a56d22fa8cd4ba6a9ceb85678a010a5",
       "version_major": 2,
       "version_minor": 0
      },
      "text/plain": [
       "Generating GIF:   0%|          | 0/30 [00:00<?, ?it/s]"
      ]
     },
     "metadata": {},
     "output_type": "display_data"
    },
    {
     "name": "stdout",
     "output_type": "stream",
     "text": [
      "Saved GIF to pi_estimation.gif\n"
     ]
    }
   ],
   "source": [
    "import numpy as np\n",
    "from tqdm.auto import tqdm\n",
    "\n",
    "\n",
    "def plot_pi_estimation(n=100_000):\n",
    "    rand_xy = np.random.uniform(-1, 1, (n, 2))\n",
    "    origin_dist = np.sum(rand_xy**2, axis=1)\n",
    "    pi = 4 * np.sum(origin_dist <= 1) / n\n",
    "    fig, ax = plt.subplots(figsize=(5, 5))\n",
    "    ax.scatter(rand_xy[:, 0], rand_xy[:, 1], c=origin_dist <= 1, cmap='coolwarm', s=1)\n",
    "    theta = np.linspace(0, 2*np.pi, 100)\n",
    "    ax.plot([-1, 1, 1, -1, -1], [-1, -1, 1, 1, -1], color='tab:blue', lw=3)\n",
    "    ax.plot(np.cos(theta), np.sin(theta), color='tab:red', lw=2)\n",
    "    remove_spines(ax)\n",
    "    ax.set_aspect('equal')\n",
    "    if abs(pi - np.pi) / np.pi < 0.01:\n",
    "        color = 'tab:green'\n",
    "        label = \"✓\"\n",
    "    else:\n",
    "        color = 'tab:red'\n",
    "        label = \"✗\"\n",
    "    ax.text(0.1, 0.9, f\"π = {pi:.2f} {label}\", transform=ax.transAxes, ha='left', va='top', color=color,\n",
    "            bbox=dict(boxstyle='round', facecolor='white', alpha=0.9))\n",
    "    fig.tight_layout(pad=0)\n",
    "    return fig\n",
    "\n",
    "\n",
    "def make_pi_estimation_gif(max_n=1000_000, n_frames=30, outname=\"pi_estimation.gif\"):\n",
    "    n_vals = np.geomspace(100, max_n, n_frames, dtype=int)\n",
    "    with imageio.get_writer(outname, mode='I', loop=0) as writer:\n",
    "        for n in tqdm(n_vals, desc=\"Generating GIF\"):\n",
    "            fig = plot_pi_estimation(n)\n",
    "            fig.savefig('temp.png', dpi=100)\n",
    "            writer.append_data(imageio.imread_v2('temp.png'))\n",
    "            plt.close(fig)\n",
    "    print(f\"Saved GIF to {outname}\")\n",
    "\n",
    "make_pi_estimation_gif()"
   ]
  },
  {
   "cell_type": "markdown",
   "metadata": {},
   "source": [
    "![pi_estimation.gif](pi_estimation.gif)"
   ]
  },
  {
   "cell_type": "markdown",
   "metadata": {},
   "source": [
    "## Questions\n",
    "\n",
    "1. What will happen to the speed of the multiprocessig implementation as N increases? Why?\n",
    "2. What is the runtime complexity of the basic implementation? What about the multiprocessing implementation?\n",
    "3. Can you think of any other ways to speed up the simulation? Plot the runtimes.\n",
    "4. What will happen to the runtimes if you also add in numpy-vectorization?\n",
    "5. And what about trying to do this with `Cupy`/`JAX` on a GPU?\n",
    "\n",
    "I'll release the answers after the workshop. (Please remind me if i don't lol)\n",
    "\n",
    "Share your plots/code/cool GIFs down below (in the website version of this page)! 😄\n",
    "\n",
    "<script src=\"https://utteranc.es/client.js\"\n",
    "        repo=\"avivajpeyi/parallelization_techniques\"\n",
    "        issue-term=\"title\"\n",
    "        theme=\"github-light\"\n",
    "        crossorigin=\"anonymous\"\n",
    "        async>\n",
    "</script>"
   ]
  },
  {
   "cell_type": "code",
   "execution_count": null,
   "outputs": [],
   "source": [],
   "metadata": {
    "collapsed": false
   }
  }
 ],
 "metadata": {
  "celltoolbar": "Tags",
  "kernelspec": {
   "display_name": "Python 3 (ipykernel)",
   "language": "python",
   "name": "python3"
  },
  "language_info": {
   "codemirror_mode": {
    "name": "ipython",
    "version": 3
   },
   "file_extension": ".py",
   "mimetype": "text/x-python",
   "name": "python",
   "nbconvert_exporter": "python",
   "pygments_lexer": "ipython3",
   "version": "3.11.4"
  },
  "toc": {
   "base_numbering": 1,
   "nav_menu": {},
   "number_sections": true,
   "sideBar": true,
   "skip_h1_title": false,
   "title_cell": "Table of Contents",
   "title_sidebar": "Contents",
   "toc_cell": false,
   "toc_position": {},
   "toc_section_display": true,
   "toc_window_display": true
  },
  "varInspector": {
   "cols": {
    "lenName": 16,
    "lenType": 16,
    "lenVar": 40
   },
   "kernels_config": {
    "python": {
     "delete_cmd_postfix": "",
     "delete_cmd_prefix": "del ",
     "library": "var_list.py",
     "varRefreshCmd": "print(var_dic_list())"
    },
    "r": {
     "delete_cmd_postfix": ") ",
     "delete_cmd_prefix": "rm(",
     "library": "var_list.r",
     "varRefreshCmd": "cat(var_dic_list()) "
    }
   },
   "types_to_exclude": [
    "module",
    "function",
    "builtin_function_or_method",
    "instance",
    "_Feature"
   ],
   "window_display": false
  }
 },
 "nbformat": 4,
 "nbformat_minor": 1
}
